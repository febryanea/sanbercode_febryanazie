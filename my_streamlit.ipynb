{
 "cells": [
  {
   "cell_type": "code",
   "execution_count": 3,
   "metadata": {},
   "outputs": [],
   "source": [
    "import streamlit as st\n",
    "import pandas as pd\n",
    "import numpy as np"
   ]
  },
  {
   "cell_type": "code",
   "execution_count": 4,
   "metadata": {},
   "outputs": [
    {
     "name": "stderr",
     "output_type": "stream",
     "text": [
      "2022-11-14 05:22:31.602 \n",
      "  \u001b[33m\u001b[1mWarning:\u001b[0m to view this Streamlit app on a browser, run it with the following\n",
      "  command:\n",
      "\n",
      "    streamlit run C:\\Users\\elfan\\AppData\\Local\\Packages\\PythonSoftwareFoundation.Python.3.9_qbz5n2kfra8p0\\LocalCache\\local-packages\\Python39\\site-packages\\ipykernel_launcher.py [ARGUMENTS]\n"
     ]
    }
   ],
   "source": [
    "option = st.sidebar.selectbox(\n",
    "    'Silakan pilih:',\n",
    "    ('Home','Dataframe','Chart')\n",
    ")"
   ]
  },
  {
   "cell_type": "code",
   "execution_count": 6,
   "metadata": {},
   "outputs": [],
   "source": [
    "if option == 'Home' or option == '':\n",
    "    st.write(\"\"\"# Halaman Utama\"\"\") #menampilkan halaman utama\n",
    "elif option == 'Dataframe':\n",
    "    st.write(\"\"\"## Dataframe\"\"\") #menampilkan judul halaman dataframe\n",
    "\n",
    "    #membuat dataframe dengan pandas yang terdiri dari 2 kolom dan 4 baris data\n",
    "    df = pd.DataFrame({\n",
    "        'Column 1':[1,2,3,4],\n",
    "        'Column 2':[10,12,14,16]\n",
    "    })\n",
    "    df #menampilkan dataframe\n",
    "elif option == 'Chart':\n",
    "    st.write(\"\"\"## Draw Charts\"\"\") #menampilkan judul halaman \n",
    "\n",
    "    #membuat variabel chart data yang berisi data dari dataframe\n",
    "    #data berupa angka acak yang di-generate menggunakan numpy\n",
    "    #data terdiri dari 2 kolom dan 20 baris\n",
    "    chart_data = pd.DataFrame(\n",
    "        np.random.randn(20,2), \n",
    "        columns=['a','b']\n",
    "    )\n",
    "    #menampilkan data dalam bentuk chart\n",
    "    st.line_chart(chart_data)\n",
    "    #data dalam bentuk tabel\n",
    "    chart_data"
   ]
  }
 ],
 "metadata": {
  "kernelspec": {
   "display_name": "Python 3.9.13 64-bit (microsoft store)",
   "language": "python",
   "name": "python3"
  },
  "language_info": {
   "codemirror_mode": {
    "name": "ipython",
    "version": 3
   },
   "file_extension": ".py",
   "mimetype": "text/x-python",
   "name": "python",
   "nbconvert_exporter": "python",
   "pygments_lexer": "ipython3",
   "version": "3.9.13"
  },
  "orig_nbformat": 4,
  "vscode": {
   "interpreter": {
    "hash": "8d7463468add762a99e76fa3a8ec111589eea04c0d2aee8b3bac9326932febd2"
   }
  }
 },
 "nbformat": 4,
 "nbformat_minor": 2
}
